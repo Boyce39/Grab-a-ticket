{
 "cells": [
  {
   "cell_type": "code",
   "execution_count": 20,
   "id": "ccea38fc",
   "metadata": {},
   "outputs": [
    {
     "name": "stdout",
     "output_type": "stream",
     "text": [
      "欢迎使用ddddocr，本项目专注带动行业内卷，个人博客:wenanzhe.com\n",
      "训练数据支持来源于:http://146.56.204.113:19199/preview\n",
      "爬虫框架feapder可快速一键接入，快速开启爬虫之旅：https://github.com/Boris-code/feapder\n",
      "谷歌reCaptcha验证码 / hCaptcha验证码 / funCaptcha验证码商业级识别接口：https://yescaptcha.com/i/NSwk7i\n",
      "lakz\n"
     ]
    }
   ],
   "source": [
    "# example.py\n",
    "import ddddocr\n",
    "\n",
    "ocr = ddddocr.DdddOcr()\n",
    "\n",
    "image = open(r\"C:\\Users\\boyce\\Desktop\\verify\\cap_1751039582003.png\", \"rb\").read()\n",
    "result = ocr.classification(image)\n",
    "print(result)"
   ]
  },
  {
   "cell_type": "code",
   "execution_count": 15,
   "id": "2fc896bb",
   "metadata": {},
   "outputs": [
    {
     "name": "stdout",
     "output_type": "stream",
     "text": [
      "1751099013.5803084\n",
      "10.000727415084839\n"
     ]
    }
   ],
   "source": [
    "import time\n",
    "t=time.time()\n",
    "print(t)\n",
    "time.sleep(10)\n",
    "print(time.time()-t)"
   ]
  },
  {
   "cell_type": "code",
   "execution_count": null,
   "id": "9f2ae52c",
   "metadata": {},
   "outputs": [],
   "source": [
    "import undetected_chromedriver as uc\n",
    "from selenium.webdriver.common.by import By\n",
    "import time\n",
    "\n",
    "driver = uc.Chrome()\n",
    "driver.get(\"https://www.google.com\")\n",
    "\n",
    "time.sleep(1)  # 避免還沒載完\n",
    "\n",
    "# 方法1：By.ID\n",
    "el1 = driver.find_element(By.ID, \"APjFqb\")\n",
    "el1.send_keys(\"用 ID 抓到我了\")\n",
    "time.sleep(1)\n",
    "el1.clear()\n",
    "\n",
    "# 方法2：By.NAME\n",
    "el2 = driver.find_element(By.NAME, \"q\")\n",
    "el2.send_keys(\"用 NAME 抓到我了\")\n",
    "time.sleep(1)\n",
    "el2.clear()\n",
    "\n",
    "# 方法3：By.CLASS_NAME\n",
    "el3 = driver.find_element(By.CLASS_NAME, \"gLFyf\")\n",
    "el3.send_keys(\"用 CLASS 抓到我了\")\n",
    "time.sleep(1)\n",
    "el3.clear()\n",
    "\n",
    "# 方法4：By.CSS_SELECTOR\n",
    "el4 = driver.find_element(By.CSS_SELECTOR, \"textarea[name='q']\")\n",
    "el4.send_keys(\"用 CSS 選擇器\")\n",
    "time.sleep(1)\n",
    "el4.clear()\n",
    "\n",
    "# 方法5：By.XPATH\n",
    "el5 = driver.find_element(By.XPATH, \"//textarea[@id='APjFqb']\")\n",
    "el5.send_keys(\"用 XPath 抓到我了\")\n",
    "time.sleep(1)\n",
    "\n",
    "driver.quit()\n"
   ]
  },
  {
   "cell_type": "code",
   "execution_count": 49,
   "id": "09f33781",
   "metadata": {},
   "outputs": [],
   "source": [
    "import undetected_chromedriver as uc\n",
    "from selenium.webdriver.common.by import By\n",
    "import time\n",
    "\n",
    "driver = uc.Chrome()\n",
    "driver.get(\"https://www.youtube.com/\")\n",
    "\n",
    "time.sleep(2)  # 等一下頁面載入\n",
    "\n",
    "# 輸入搜尋關鍵字\n",
    "search_box = driver.find_element(By.NAME, \"search_query\")\n",
    "search_box.send_keys(\"分析儀下\")\n",
    "\n",
    "# 找到「分析儀下」旁邊的搜尋按鈕（你貼的那個按鈕）\n",
    "search_btn = driver.find_element(By.CSS_SELECTOR, \"button[aria-label='Search']\")\n",
    "search_btn.click()\n",
    "\n",
    "time.sleep(5)  # 等搜尋結果出現\n",
    "driver.quit()\n"
   ]
  },
  {
   "cell_type": "code",
   "execution_count": 1,
   "id": "d88d13d1",
   "metadata": {},
   "outputs": [],
   "source": [
    "#自動登入翰林雲端\n",
    "import undetected_chromedriver as uc\n",
    "from selenium.webdriver.common.by import By\n",
    "import time\n",
    "\n",
    "driver = uc.Chrome()\n",
    "driver.get(\"https://ptccsh.teamslite.com.tw/login.html\")\n",
    "\n",
    "time.sleep(2)  # 等一下頁面載入\n",
    "\n",
    "# 輸入帳號密碼\n",
    "search_box = driver.find_element(By.NAME, \"account\")\n",
    "search_box.send_keys(\"210061\")\n",
    "search_box = driver.find_element(By.NAME, \"password\")\n",
    "search_box.send_keys(\"aa1234\")\n",
    "# 用CSS_SELECTOR抓取\n",
    "search_btn = driver.find_element(By.CSS_SELECTOR, \"a.btn.red\")\n",
    "search_btn.click()\n",
    "\n",
    "time.sleep(5)  # 等搜尋結果出現\n",
    "driver.quit()\n"
   ]
  },
  {
   "cell_type": "code",
   "execution_count": 48,
   "id": "9a8410ed",
   "metadata": {},
   "outputs": [
    {
     "name": "stdout",
     "output_type": "stream",
     "text": [
      "16 11 3\n"
     ]
    }
   ],
   "source": [
    "# th,tm=map(int,input(\"輸入搶票時間24小時至:\").split(\":\"))\n",
    "# print(th,tm)\n",
    "import time\n",
    "t=time.localtime() \n",
    "\n",
    "print(t.tm_hour,t.tm_min,t.tm_sec)"
   ]
  },
  {
   "cell_type": "code",
   "execution_count": null,
   "id": "9671de54",
   "metadata": {},
   "outputs": [],
   "source": []
  }
 ],
 "metadata": {
  "kernelspec": {
   "display_name": ".venv",
   "language": "python",
   "name": "python3"
  },
  "language_info": {
   "codemirror_mode": {
    "name": "ipython",
    "version": 3
   },
   "file_extension": ".py",
   "mimetype": "text/x-python",
   "name": "python",
   "nbconvert_exporter": "python",
   "pygments_lexer": "ipython3",
   "version": "3.12.6"
  }
 },
 "nbformat": 4,
 "nbformat_minor": 5
}
